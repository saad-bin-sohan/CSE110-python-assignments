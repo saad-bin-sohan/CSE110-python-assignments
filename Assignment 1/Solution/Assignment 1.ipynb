{
  "cells": [
    {
      "cell_type": "code",
      "execution_count": null,
      "metadata": {
        "colab": {
          "base_uri": "https://localhost:8080/"
        },
        "id": "LaLj4lW7oH0v",
        "outputId": "ce7b6873-2b29-410b-ff2f-79f53d12dfe6"
      },
      "outputs": [
        {
          "name": "stdout",
          "output_type": "stream",
          "text": [
            "hello world\n"
          ]
        }
      ],
      "source": [
        "#task 1\n",
        "print('hello world')"
      ]
    },
    {
      "cell_type": "code",
      "execution_count": null,
      "metadata": {
        "colab": {
          "base_uri": "https://localhost:8080/"
        },
        "id": "s5RB0UFboS36",
        "outputId": "1988f4ba-fae9-491e-9843-0b5763262e00"
      },
      "outputs": [
        {
          "name": "stdout",
          "output_type": "stream",
          "text": [
            "110\n"
          ]
        }
      ],
      "source": [
        "#task 2\n",
        "print(54+56)"
      ]
    },
    {
      "cell_type": "code",
      "execution_count": null,
      "metadata": {
        "colab": {
          "base_uri": "https://localhost:8080/"
        },
        "id": "iV1LemhKoYOr",
        "outputId": "8b76c7e2-d1ef-4931-8fb6-29345675f121"
      },
      "outputs": [
        {
          "name": "stdout",
          "output_type": "stream",
          "text": [
            "Fall\n",
            "2022\n"
          ]
        }
      ],
      "source": [
        "#task 3\n",
        "\n",
        "season = 'Fall'\n",
        "year = 2022\n",
        "\n",
        "print(season)\n",
        "print(year)"
      ]
    },
    {
      "cell_type": "code",
      "execution_count": null,
      "metadata": {
        "colab": {
          "base_uri": "https://localhost:8080/"
        },
        "id": "p9loXWC0onnP",
        "outputId": "f92ecb83-b738-493f-aa21-1c2d9d562061"
      },
      "outputs": [
        {
          "name": "stdout",
          "output_type": "stream",
          "text": [
            "Enter your name: John\n",
            "Your name is John\n"
          ]
        }
      ],
      "source": [
        "#task 4\n",
        "\n",
        "name = input('Enter your name: ')\n",
        "\n",
        "print('Your name is', name)"
      ]
    },
    {
      "cell_type": "code",
      "execution_count": null,
      "metadata": {
        "colab": {
          "base_uri": "https://localhost:8080/"
        },
        "id": "ASaHsjRSoygI",
        "outputId": "b045a658-c7e7-4b83-d463-fa117cdf84a1"
      },
      "outputs": [
        {
          "name": "stdout",
          "output_type": "stream",
          "text": [
            "Enter M: 10\n",
            "Enter N: 3\n",
            "10^3: 1000\n"
          ]
        }
      ],
      "source": [
        "#task 5\n",
        "\n",
        "m = int(input('Enter M: '))\n",
        "n = int(input('Enter N: '))\n",
        "\n",
        "res = str(m**n)\n",
        "\n",
        "print( str(m) + '^' + str(n) + ': ' + res)"
      ]
    },
    {
      "cell_type": "code",
      "execution_count": null,
      "metadata": {
        "colab": {
          "base_uri": "https://localhost:8080/"
        },
        "id": "NR2SghdfpjHL",
        "outputId": "fecc120b-b9c4-4b87-8cd5-02740a3e8aa2"
      },
      "outputs": [
        {
          "name": "stdout",
          "output_type": "stream",
          "text": [
            "How much shipment we got? 11\n",
            "8\n"
          ]
        }
      ],
      "source": [
        "#task 6\n",
        "\n",
        "received_shipment = int(input('How much shipment we got? '))\n",
        "\n",
        "carryable_shipment = (received_shipment // 4 ) * 4\n",
        "\n",
        "print(carryable_shipment)"
      ]
    },
    {
      "cell_type": "code",
      "execution_count": null,
      "metadata": {
        "colab": {
          "base_uri": "https://localhost:8080/"
        },
        "id": "orjvobuEqVgk",
        "outputId": "5eba0644-4eab-4a6e-fd0f-7df5d38e38f1"
      },
      "outputs": [
        {
          "name": "stdout",
          "output_type": "stream",
          "text": [
            "Enter A: 88\n",
            "Enter B: 22\n",
            "Enter C: 1\n",
            "Enter D: 3.3\n",
            "2022\n"
          ]
        }
      ],
      "source": [
        "a = int(input('Enter A: '))\n",
        "b = int(input('Enter B: '))\n",
        "c = int(input('Enter C: '))\n",
        "d = float(input('Enter D: '))\n",
        "\n",
        "result = int( (a**c) + (b*a) - (d/3) )\n",
        "\n",
        "print(result)"
      ]
    },
    {
      "cell_type": "code",
      "execution_count": null,
      "metadata": {
        "colab": {
          "base_uri": "https://localhost:8080/"
        },
        "id": "gFkubILAq7Sf",
        "outputId": "9a836d5d-8f33-4c8d-87be-c386c6bb59c2"
      },
      "outputs": [
        {
          "name": "stdout",
          "output_type": "stream",
          "text": [
            "How many chocolates you have? 90\n",
            "Each friend will receive 30 chocolates\n",
            "The number of remaining chocolates is 0\n"
          ]
        }
      ],
      "source": [
        "#task 8\n",
        "\n",
        "choco_count = int(input('How many chocolates you have? '))\n",
        "\n",
        "friends_share = choco_count // 3\n",
        "\n",
        "rem_share = choco_count - (friends_share *3)\n",
        "\n",
        "print('Each friend will receive', friends_share, 'chocolates')\n",
        "print('The number of remaining chocolates is', rem_share)"
      ]
    },
    {
      "cell_type": "code",
      "execution_count": null,
      "metadata": {
        "colab": {
          "base_uri": "https://localhost:8080/"
        },
        "id": "S1VtSPtosKCN",
        "outputId": "969a2859-62d9-435c-ea9f-b783a10c062e"
      },
      "outputs": [
        {
          "name": "stdout",
          "output_type": "stream",
          "text": [
            "Enter M: Python\n",
            "Enter N: 3\n",
            "3Python\n"
          ]
        }
      ],
      "source": [
        "#task 9\n",
        "\n",
        "m = input('Enter M: ')\n",
        "n = input('Enter N: ')\n",
        "print(n + m)"
      ]
    },
    {
      "cell_type": "code",
      "execution_count": null,
      "metadata": {
        "colab": {
          "base_uri": "https://localhost:8080/"
        },
        "id": "rxwzahkPshcR",
        "outputId": "e2b14f3f-2799-472b-c8d4-3d953c1e2b35"
      },
      "outputs": [
        {
          "name": "stdout",
          "output_type": "stream",
          "text": [
            "Enter your line: Python is an interpreted language\n",
            "P\n"
          ]
        }
      ],
      "source": [
        "#task 10\n",
        "\n",
        "display_val = input('Enter your line: ')\n",
        "\n",
        "print(display_val[0])"
      ]
    },
    {
      "cell_type": "code",
      "execution_count": null,
      "metadata": {
        "colab": {
          "base_uri": "https://localhost:8080/"
        },
        "id": "tpd_Mx5Us9EH",
        "outputId": "f9655187-729f-47ed-ef0d-748a8b68c8af"
      },
      "outputs": [
        {
          "name": "stdout",
          "output_type": "stream",
          "text": [
            "Enter a number: -26\n",
            "True\n"
          ]
        }
      ],
      "source": [
        "#task 11\n",
        "\n",
        "num = int(input('Enter a number: '))\n",
        "\n",
        "if num%2==0:\n",
        "  print('True')\n",
        "\n",
        "else:\n",
        "  print('False')"
      ]
    }
  ],
  "metadata": {
    "colab": {
      "provenance": []
    },
    "kernelspec": {
      "display_name": "Python 3",
      "name": "python3"
    },
    "language_info": {
      "name": "python"
    }
  },
  "nbformat": 4,
  "nbformat_minor": 0
}
